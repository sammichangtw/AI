{
 "cells": [
  {
   "cell_type": "code",
   "execution_count": 1,
   "metadata": {},
   "outputs": [],
   "source": [
    "import pandas as pd\n",
    "import numpy as np\n",
    "import matplotlib.pyplot as plt\n",
    "import seaborn as sns\n",
    "import scipy.stats as stats"
   ]
  },
  {
   "cell_type": "markdown",
   "metadata": {},
   "source": [
    "## 解題步驟：\n",
    "\n",
    "1. 將 train.csv, test.csv 合併\n",
    "2. 取出 LotFrontage, GarageYrBlt, MasVnrArea 三個特徵的資料\n",
    "3. 分別以平均值及中位數來填補缺失值\n",
    "4. 分析缺失值，練習繪製直方圖及機率圖 (如下圖)\n",
    "5. 分別計算原本、以平均值填補、以中位數填補的標準差\n",
    "6. 課後問答\n",
    "\n",
    "<img src=\"./data/hist_plot.png\" style=\"zoom:100%;\" />\n",
    "\n",
    "## Hint\n",
    "\n",
    "* [pandas.DataFrame.fillna()](https://pandas.pydata.org/pandas-docs/stable/reference/api/pandas.DataFrame.fillna.html)\n",
    "* [seaborn.histplot](\n",
    "\n",
    "\n",
    "## 讀取資料"
   ]
  },
  {
   "cell_type": "code",
   "execution_count": 2,
   "metadata": {},
   "outputs": [
    {
     "name": "stdout",
     "output_type": "stream",
     "text": [
      "      index    Id  MSSubClass MSZoning  LotFrontage  LotArea Street Alley  \\\n",
      "0         0  1431          60       RL         60.0    21930   Pave   NaN   \n",
      "1         1   757          60       RL         68.0    10769   Pave   NaN   \n",
      "2         2   632         120       RL         34.0     4590   Pave   NaN   \n",
      "3         3  1193          50       RM         60.0     9600   Pave  Grvl   \n",
      "4         4   773          80       RL         94.0     7819   Pave   NaN   \n",
      "...     ...   ...         ...      ...          ...      ...    ...   ...   \n",
      "1455    360  1327          30       RH         70.0     4270   Pave   NaN   \n",
      "1456    361  1154          30       RM          NaN     5890   Pave   NaN   \n",
      "1457    362   665          20       RL         49.0    20896   Pave   NaN   \n",
      "1458    363  1259          80       RL         59.0     9587   Pave   NaN   \n",
      "1459    364  1122          20       RL         84.0    10084   Pave   NaN   \n",
      "\n",
      "     LotShape LandContour  ... PoolArea PoolQC  Fence MiscFeature MiscVal  \\\n",
      "0         IR3         Lvl  ...        0    NaN    NaN         NaN       0   \n",
      "1         IR1         Lvl  ...        0    NaN    NaN         NaN       0   \n",
      "2         Reg         Lvl  ...        0    NaN    NaN         NaN       0   \n",
      "3         Reg         Lvl  ...        0    NaN   GdWo         NaN       0   \n",
      "4         Reg         Lvl  ...        0    NaN  MnPrv         NaN       0   \n",
      "...       ...         ...  ...      ...    ...    ...         ...     ...   \n",
      "1455      Reg         Bnk  ...        0    NaN    NaN         NaN       0   \n",
      "1456      Reg         Lvl  ...        0    NaN    NaN         NaN       0   \n",
      "1457      IR2         Lvl  ...        0    NaN    NaN         NaN       0   \n",
      "1458      IR1         Lvl  ...        0    NaN    NaN         NaN       0   \n",
      "1459      Reg         Lvl  ...        0    NaN    NaN         NaN       0   \n",
      "\n",
      "     MoSold YrSold SaleType  SaleCondition  SalePrice  \n",
      "0         7   2006       WD         Normal     192140  \n",
      "1         4   2009       WD         Normal     212000  \n",
      "2         8   2007       WD         Normal     209500  \n",
      "3         7   2007       WD         Normal     125000  \n",
      "4         3   2010       WD        Abnorml     107000  \n",
      "...     ...    ...      ...            ...        ...  \n",
      "1455      5   2007       WD         Normal      79000  \n",
      "1456      6   2008       WD         Normal     120500  \n",
      "1457      1   2006      New        Partial     423000  \n",
      "1458      7   2008       WD         Normal     190000  \n",
      "1459      7   2006      New        Partial     212900  \n",
      "\n",
      "[1460 rows x 82 columns]\n"
     ]
    }
   ],
   "source": [
    "\"\"\" Your code hear: 讀取 train.csv, test.csv 並合併 \"\"\"\n",
    "\n",
    "df1 = pd.read_csv('./data/train.csv')\n",
    "df2 = pd.read_csv('./data/test.csv')\n",
    "df = df1.append(df2)\n",
    "df = df.reset_index()\n",
    "\n",
    "print(df)"
   ]
  },
  {
   "cell_type": "markdown",
   "metadata": {},
   "source": [
    "## 分離目標"
   ]
  },
  {
   "cell_type": "code",
   "execution_count": 3,
   "metadata": {},
   "outputs": [
    {
     "name": "stdout",
     "output_type": "stream",
     "text": [
      "      origin\n",
      "0       60.0\n",
      "1       68.0\n",
      "2       34.0\n",
      "3       60.0\n",
      "4       94.0\n",
      "...      ...\n",
      "1455    70.0\n",
      "1456     NaN\n",
      "1457    49.0\n",
      "1458    59.0\n",
      "1459    84.0\n",
      "\n",
      "[1460 rows x 1 columns]\n"
     ]
    }
   ],
   "source": [
    "# 將目標分析欄位取出來 LotFrontage, GarageYrBlt, MasVnrArea\n",
    "\"\"\" Your code hear: \"\"\"\n",
    "LotFrontage = pd.DataFrame()\n",
    "GarageYrBlt = pd.DataFrame()\n",
    "MasVnrArea = pd.DataFrame()\n",
    "LotFrontage['origin'] = df['LotFrontage']\n",
    "GarageYrBlt['origin'] = df['GarageYrBlt']\n",
    "MasVnrArea['origin'] = df['MasVnrArea']\n",
    "\n",
    "print(LotFrontage)"
   ]
  },
  {
   "cell_type": "code",
   "execution_count": 4,
   "metadata": {},
   "outputs": [
    {
     "name": "stdout",
     "output_type": "stream",
     "text": [
      "0       60.000000\n",
      "1       68.000000\n",
      "2       34.000000\n",
      "3       60.000000\n",
      "4       94.000000\n",
      "          ...    \n",
      "1455    70.000000\n",
      "1456    70.049958\n",
      "1457    49.000000\n",
      "1458    59.000000\n",
      "1459    84.000000\n",
      "Name: origin, Length: 1460, dtype: float64\n"
     ]
    }
   ],
   "source": [
    "# 填補缺失值：平均值\n",
    "\n",
    "mean = LotFrontage['origin'].mean()\n",
    "LotFrontage['mean'] = LotFrontage['origin'].fillna(mean)\n",
    "print(LotFrontage['origin'].fillna(mean))\n",
    "\n",
    "mean = GarageYrBlt['origin'].mean()\n",
    "GarageYrBlt['mean'] = GarageYrBlt['origin'].fillna(mean)\n",
    "\n",
    "mean = MasVnrArea['origin'].mean()\n",
    "MasVnrArea['mean'] = MasVnrArea['origin'].fillna(mean)"
   ]
  },
  {
   "cell_type": "code",
   "execution_count": 5,
   "metadata": {},
   "outputs": [
    {
     "name": "stdout",
     "output_type": "stream",
     "text": [
      "      origin       mean  median\n",
      "0       60.0  60.000000    60.0\n",
      "1       68.0  68.000000    68.0\n",
      "2       34.0  34.000000    34.0\n",
      "3       60.0  60.000000    60.0\n",
      "4       94.0  94.000000    94.0\n",
      "...      ...        ...     ...\n",
      "1455    70.0  70.000000    70.0\n",
      "1456     NaN  70.049958    69.0\n",
      "1457    49.0  49.000000    49.0\n",
      "1458    59.0  59.000000    59.0\n",
      "1459    84.0  84.000000    84.0\n",
      "\n",
      "[1460 rows x 3 columns]\n"
     ]
    }
   ],
   "source": [
    "# 填補缺失值：中位數\n",
    "\n",
    "median = LotFrontage['origin'].median()\n",
    "LotFrontage['median'] = LotFrontage['origin'].fillna(median)\n",
    "print(LotFrontage)\n",
    "\n",
    "median = GarageYrBlt['origin'].median()\n",
    "GarageYrBlt['median'] = GarageYrBlt['origin'].fillna(median)\n",
    "\n",
    "median = MasVnrArea['origin'].median()\n",
    "MasVnrArea['median'] = MasVnrArea['origin'].fillna(median)"
   ]
  },
  {
   "cell_type": "markdown",
   "metadata": {},
   "source": [
    "## 繪圖"
   ]
  },
  {
   "cell_type": "code",
   "execution_count": 12,
   "metadata": {},
   "outputs": [
    {
     "data": {
      "image/png": "[encoded data removed]",
      "text/plain": [
       "<Figure size 1296x360 with 3 Axes>"
      ]
     },
     "metadata": {
      "needs_background": "light"
     },
     "output_type": "display_data"
    }
   ],
   "source": [
    "# 繪圖\n",
    "\"\"\" Your code hear: \"\"\"\n",
    "fig, (ax1, ax2, ax3) = plt.subplots(1, 3, figsize = (18, 5))\n",
    "\n",
    "ax1.hist(LotFrontage['origin'], bins=50, density=True, edgecolor='k', alpha=0.2, color='blue')\n",
    "ax1.hist(LotFrontage['mean'], bins=50, density=True, edgecolor='k', alpha=0.2, color='orange')\n",
    "ax1.hist(LotFrontage['median'], bins=50, density=True, edgecolor='k', alpha=0.2, color='green')\n",
    "sns.kdeplot(LotFrontage['mean'], ax=ax1, color='orange')\n",
    "sns.kdeplot(LotFrontage['median'], ax=ax1, color='green')\n",
    "ax1.set_xlabel('LotFrontage')\n",
    "ax1.set_ylabel('Probability')\n",
    "\n",
    "ax2.hist(GarageYrBlt['origin'], bins=20, density=True, edgecolor='k', alpha=0.2, color='blue')\n",
    "ax2.hist(GarageYrBlt['mean'], bins=20, density=True, edgecolor='k', alpha=0.2, color='orange')\n",
    "ax2.hist(GarageYrBlt['median'], bins=20, density=True, edgecolor='k', alpha=0.2, color='green')\n",
    "sns.kdeplot(GarageYrBlt['mean'], ax=ax2, color='orange')\n",
    "sns.kdeplot(GarageYrBlt['median'], ax=ax2, color='green')\n",
    "ax2.set_xlabel('GarageYrBlt')\n",
    "ax2.set_ylabel('Probability')\n",
    "\n",
    "ax3.hist(MasVnrArea['origin'], bins=60, density=True, edgecolor='k', alpha=0.2, color='blue')\n",
    "ax3.hist(MasVnrArea['mean'], bins=60, density=True, edgecolor='k', alpha=0.2, color='orange')\n",
    "ax3.hist(MasVnrArea['median'], bins=60, density=True, edgecolor='k', alpha=0.2, color='green')\n",
    "sns.kdeplot(MasVnrArea['mean'], ax=ax3, color='orange')\n",
    "sns.kdeplot(MasVnrArea['median'], ax=ax3, color='green')\n",
    "ax3.set_xlabel('MasVnrArea')\n",
    "ax3.set_ylabel('Probability')\n",
    "\n",
    "plt.show()"
   ]
  },
  {
   "cell_type": "markdown",
   "metadata": {},
   "source": [
    "## 分析標準差"
   ]
  },
  {
   "cell_type": "code",
   "execution_count": 13,
   "metadata": {},
   "outputs": [
    {
     "name": "stdout",
     "output_type": "stream",
     "text": [
      "LotFrontage\n",
      "origin    24.284752\n",
      "mean      22.024023\n",
      "median    22.027677\n",
      "dtype: float64\n",
      "\n",
      "GarageYrBlt\n",
      "origin    24.689725\n",
      "mean      23.994583\n",
      "median    23.997022\n",
      "dtype: float64\n",
      "\n",
      "MasVnrArea\n",
      "origin    181.066207\n",
      "mean      180.569112\n",
      "median    180.731373\n",
      "dtype: float64\n"
     ]
    }
   ],
   "source": [
    "\"\"\" Your code hear: \"\"\"\n",
    "print(\"LotFrontage\")\n",
    "print(LotFrontage.std())\n",
    "print(\"\\nGarageYrBlt\")\n",
    "print(GarageYrBlt.std())\n",
    "print(\"\\nMasVnrArea\")\n",
    "print(MasVnrArea.std())"
   ]
  },
  {
   "cell_type": "markdown",
   "metadata": {},
   "source": [
    "## 透過分析標準差可以得到什麼結果？"
   ]
  },
  {
   "cell_type": "markdown",
   "metadata": {},
   "source": [
    "可看出資料密度的變化，標準差變得越多，表示ㄑ"
   ]
  }
 ],
 "metadata": {
  "kernelspec": {
   "display_name": "Python 3",
   "language": "python",
   "name": "python3"
  },
  "language_info": {
   "codemirror_mode": {
    "name": "ipython",
    "version": 3
   },
   "file_extension": ".py",
   "mimetype": "text/x-python",
   "name": "python",
   "nbconvert_exporter": "python",
   "pygments_lexer": "ipython3",
   "version": "3.9.5"
  }
 },
 "nbformat": 4,
 "nbformat_minor": 2
}
